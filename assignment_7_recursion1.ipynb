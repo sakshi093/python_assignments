{
 "cells": [
  {
   "cell_type": "code",
   "execution_count": 221,
   "metadata": {},
   "outputs": [
    {
     "name": "stdout",
     "output_type": "stream",
     "text": [
      "enter how many times coin tosses10\n",
      "no od desired outcomes9\n"
     ]
    }
   ],
   "source": [
    "N=int(input(\"enter how many times coin tosses\"))\n",
    "k=int(input(\"no od desired outcomes\"))"
   ]
  },
  {
   "cell_type": "code",
   "execution_count": 223,
   "metadata": {},
   "outputs": [],
   "source": [
    "def factorial(num):\n",
    "    if num==1:\n",
    "        return 1;\n",
    "    else:\n",
    "        return num*factorial(num-1)"
   ]
  },
  {
   "cell_type": "code",
   "execution_count": 224,
   "metadata": {},
   "outputs": [],
   "source": [
    "values=[]\n",
    "def p_x_equals_k(N,k):\n",
    "        q= pow(0.5,(N-k))\n",
    "        p=pow(0.5,k)\n",
    "        result=(factorial(N)/(factorial(k)*factorial(N-k))*p*q)\n",
    "        return result\n",
    "        values.append(result)\n",
    "    \n",
    "\n",
    "           "
   ]
  },
  {
   "cell_type": "code",
   "execution_count": 225,
   "metadata": {},
   "outputs": [
    {
     "name": "stdout",
     "output_type": "stream",
     "text": [
      "0.0439453125\n"
     ]
    }
   ],
   "source": [
    "print(p_x_equals_k(N,r))"
   ]
  },
  {
   "cell_type": "code",
   "execution_count": null,
   "metadata": {},
   "outputs": [],
   "source": []
  },
  {
   "cell_type": "code",
   "execution_count": null,
   "metadata": {},
   "outputs": [],
   "source": []
  }
 ],
 "metadata": {
  "kernelspec": {
   "display_name": "Python 3",
   "language": "python",
   "name": "python3"
  },
  "language_info": {
   "codemirror_mode": {
    "name": "ipython",
    "version": 3
   },
   "file_extension": ".py",
   "mimetype": "text/x-python",
   "name": "python",
   "nbconvert_exporter": "python",
   "pygments_lexer": "ipython3",
   "version": "3.6.5"
  }
 },
 "nbformat": 4,
 "nbformat_minor": 2
}
